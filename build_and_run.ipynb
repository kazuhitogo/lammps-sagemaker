{
 "cells": [
  {
   "cell_type": "markdown",
   "id": "571b29c5",
   "metadata": {},
   "source": [
    "# 分子動力学プログラム LAMMPS を Amazon SageMaker Processing で GPU を用いて動かすサンプル\n",
    "\n",
    "* [LAMMPS](https://www.lammps.org/) を Amazon SageMaker Processing で動かす。細かい情報は下記を参照。\n",
    "    * [LAMMPSのマニュアル](https://docs.lammps.org/Manual.html)\n",
    "    * [ポリエチレン分子をシミュレーション](https://winmostar.com/jp/tutorials/LAMMPS_tutorial_8%28Polymer_Elongation%29.pdf)\n",
    "    * [SageMaker SDK doc](https://sagemaker.readthedocs.io/en/stable/amazon_sagemaker_processing.html)\n",
    "    * [SageMaker Processing 開発者ガイド](https://docs.aws.amazon.com/sagemaker/latest/dg/processing-job.html)\n",
    "\n",
    "このノートブックは Amazon SageMaker Notebook(≠Studio) の GPU インスタンス(g4dn.xlargeなど)で実行することを前提とする。理由は以下の通り。\n",
    "\n",
    "1. docker コマンドを使うため(Studioを使う場合は sm-docker コマンドに修正の必要あり)\n",
    "2. ビルドしたコンテナをローカル(SageMaker Notebook内)でテスト実行するのにあたり、GPU で動かす必要があるため"
   ]
  },
  {
   "cell_type": "code",
   "execution_count": null,
   "id": "a81abcd5",
   "metadata": {},
   "outputs": [],
   "source": [
    "# 使用するライブラリを読み込み\n",
    "import boto3, sagemaker, os, shutil, re\n",
    "from sagemaker.processing import ScriptProcessor, ProcessingInput, ProcessingOutput\n",
    "import pandas as pd\n",
    "from io import StringIO"
   ]
  },
  {
   "cell_type": "markdown",
   "id": "1b896f3e",
   "metadata": {},
   "source": [
    "## コンテナイメージのビルド\n",
    "まずは SageMaker Processing で LAMMPS が動かせるよう、コンテナイメージの中で LAMMPS をビルドする。  \n",
    "### ビルド環境のセットアップ\n",
    "ビルドは、`/var/lib/docker`を利用するが、SageMaker Notebook では該当領域は`/` にマウントされた 15GB では、ビルドに耐えられないので、別途 EBS をマウントしている`/home/ec2-user/SageMaker`以下の領域を使うように変更するスクリプトを実行する"
   ]
  },
  {
   "cell_type": "code",
   "execution_count": null,
   "id": "be7fc285",
   "metadata": {},
   "outputs": [],
   "source": [
    "cat ./setup.sh"
   ]
  },
  {
   "cell_type": "code",
   "execution_count": null,
   "id": "47d0621f",
   "metadata": {
    "scrolled": true
   },
   "outputs": [],
   "source": [
    "!./setup.sh"
   ]
  },
  {
   "cell_type": "markdown",
   "id": "b4ac01a4",
   "metadata": {},
   "source": [
    "### ビルド"
   ]
  },
  {
   "cell_type": "code",
   "execution_count": null,
   "id": "26ea67bb",
   "metadata": {
    "scrolled": true
   },
   "outputs": [],
   "source": [
    "%%time\n",
    "\n",
    "IMAGE_NAME = 'lampps'\n",
    "TAG=':v1'\n",
    "\n",
    "%cd ./container\n",
    "!docker stop $(docker ps -q)\n",
    "!docker rm $(docker ps -q -a)\n",
    "# !docker rmi -f $(docker images -a -q)\n",
    "!docker build -t {IMAGE_NAME}{TAG} .\n",
    "%cd ../"
   ]
  },
  {
   "cell_type": "markdown",
   "id": "a22e5ef1",
   "metadata": {},
   "source": [
    "### Image Test\n",
    "ビルドしたイメージをテストする。  \n",
    "このインスタンスでコンテナを動かし、mpirunコマンド(`./lmp_equiliv.sh`に内包)を実行し実際にシミュレーションを行う。  "
   ]
  },
  {
   "cell_type": "markdown",
   "id": "98002e25",
   "metadata": {},
   "source": [
    "jupyter notebook の new -> terminal から下記セルの出力をコピーして実行"
   ]
  },
  {
   "cell_type": "code",
   "execution_count": null,
   "id": "8ee7296a",
   "metadata": {},
   "outputs": [],
   "source": [
    "command_str = f\"\"\"\n",
    "cd {os.getcwd()} # clone した先のディレクトリに cd\n",
    "\n",
    "docker run --gpus all -v {os.getcwd()}/test/:/test -it --rm --entrypoint \"bash\" {IMAGE_NAME}{TAG}\n",
    "\n",
    "cd /test\n",
    "\n",
    "./lmp_equiliv.sh\n",
    "\n",
    "tail -n1 lmp_equiliv.log # 実行時間が出ていたらOK, 概ね g4dn.xlarge で 6 分弱で完了\n",
    "\n",
    "tail -n1 lmp2data_equiliv.log  # finish replica が出ていたらOK\n",
    "\n",
    "exit # 終わったら exit でコンテナから抜ける(コンテナも終了する)\n",
    "\"\"\"\n",
    "print(command_str)"
   ]
  },
  {
   "cell_type": "markdown",
   "id": "08a68e42",
   "metadata": {},
   "source": [
    "### Push"
   ]
  },
  {
   "cell_type": "code",
   "execution_count": null,
   "id": "0a5f1486",
   "metadata": {
    "scrolled": true
   },
   "outputs": [],
   "source": [
    "%%time\n",
    "\n",
    "MY_ACCOUNT_ID = boto3.client('sts').get_caller_identity().get('Account')\n",
    "# PUBLIC_ACCOUNT_ID = '763104351884'\n",
    "\n",
    "REGION = boto3.session.Session().region_name\n",
    "\n",
    "MY_ECR_ENDPOINT = f'{MY_ACCOUNT_ID}.dkr.ecr.{REGION}.amazonaws.com/'\n",
    "\n",
    "\n",
    "\n",
    "MY_REPOSITORY_URI = f'{MY_ECR_ENDPOINT}{IMAGE_NAME}'\n",
    "MY_IMAGE_URI = f'{MY_REPOSITORY_URI}{TAG}'\n",
    "\n",
    "!$(aws ecr get-login --region {REGION} --registry-ids {MY_ACCOUNT_ID} --no-include-email)\n",
    " \n",
    "# リポジトリの作成\n",
    "!aws ecr delete-repository --repository-name {IMAGE_NAME} --force # 同名のリポジトリがあった場合削除\n",
    "!aws ecr create-repository --repository-name {IMAGE_NAME}\n",
    " \n",
    "# !docker push $image_uri\n",
    "!docker tag {IMAGE_NAME}{TAG} {MY_IMAGE_URI}\n",
    "!docker push {MY_IMAGE_URI}\n",
    "\n",
    "print(f'コンテナイメージは {MY_IMAGE_URI} へ登録されています。')"
   ]
  },
  {
   "cell_type": "markdown",
   "id": "41085e10",
   "metadata": {},
   "source": [
    "## SageMaker Processing で ポリエチレンのシミュレーション\n",
    "* コンテナイメージの作成が完了したので、シミュレーションのジョブを投入する\n",
    "* 以降重い処理はこのノートブックインスタンスで実行することはなく、GPUを使うこともないので、ただジョブの投入を行うだけなので、t3.mediumなどでも十分動く"
   ]
  },
  {
   "cell_type": "markdown",
   "id": "9b92d910",
   "metadata": {},
   "source": [
    "### 必要なデータ(パラメータファイルなど)を S3 にアップロード"
   ]
  },
  {
   "cell_type": "code",
   "execution_count": null,
   "id": "f3a952d9",
   "metadata": {},
   "outputs": [],
   "source": [
    "prefix = 'lammps_simple'\n",
    "input_s3_uri = sagemaker.session.Session().upload_data(path='param/', key_prefix=prefix)\n",
    "print(input_s3_uri)"
   ]
  },
  {
   "cell_type": "markdown",
   "id": "cce5f62b",
   "metadata": {},
   "source": [
    "### SageMaker Processing の実行パラメータを設定"
   ]
  },
  {
   "cell_type": "code",
   "execution_count": null,
   "id": "b8170d8c",
   "metadata": {},
   "outputs": [],
   "source": [
    "# S3 から SageMaker Processing インスタンスへの転送先\n",
    "PROCESSING_INPUT_DIR = '/opt/ml/processing/input/'\n",
    "\n",
    "# SageMaker Processing インスタンス内の結果出力先\n",
    "PROCESSING_OUTPUT_DIR = '/opt/ml/processing/output'"
   ]
  },
  {
   "cell_type": "code",
   "execution_count": null,
   "id": "82c09f6f",
   "metadata": {},
   "outputs": [],
   "source": [
    "processor = sagemaker.processing.ScriptProcessor(\n",
    "    base_job_name='LAMMPS-polyethylene',\n",
    "    image_uri=MY_IMAGE_URI,\n",
    "    command=['python'],\n",
    "    role=sagemaker.get_execution_role(),\n",
    "    instance_count=1,\n",
    "    instance_type='ml.g4dn.xlarge'\n",
    ")"
   ]
  },
  {
   "cell_type": "markdown",
   "id": "5ad0f0a6",
   "metadata": {},
   "source": [
    "### SageMaker Processing でシミュレーションを実行\n",
    "* 成功していたら最後に `finish replica` と表示される"
   ]
  },
  {
   "cell_type": "code",
   "execution_count": null,
   "id": "30760915",
   "metadata": {
    "scrolled": true
   },
   "outputs": [],
   "source": [
    "processor.run(\n",
    "    # Processing インスタンスで実行するコード\n",
    "    # S3 の URI でも OK\n",
    "    # ScriptProcessor のコマンドの第一引数になる(この場合は python run.py)\n",
    "    # 配置場所はデフォルトで/opt/ml/processing/input/code/の下\n",
    "    code='src/run.py',\n",
    "    \n",
    "    # ジョブ開始前に S3 から Processing インスタンス に転送するデータの設定\n",
    "    # input_s3_uri 以下にあるファイル群が PROCESSING_INPUT_DIR に配置される\n",
    "    inputs=[ProcessingInput(source=input_s3_uri,destination=PROCESSING_INPUT_DIR),],\n",
    "    \n",
    "    # ジョブ完了後に Processing インスタンスから S3 に転送する設定\n",
    "    # PROCESSING_OUTPUT_DIR に配置したものが、s3://{default bucket}/{base_job_name}-YYYY-MM-DD-HH-MI-SS-mmm/output/result/以下に配置される\n",
    "    outputs=[ProcessingOutput(output_name='result',source=PROCESSING_OUTPUT_DIR),],\n",
    "    \n",
    "    # コマンド実行時の第 2 引数以降に設定される\n",
    "    # この場合は python /opt/ml/processing/input/code/run.py --input-dir $PROCESSING_INPUT_DIR --input-equiliv-in lmp_equiliv.in …\n",
    "    # となる\n",
    "    arguments=[\n",
    "        '--input-dir',         PROCESSING_INPUT_DIR,\n",
    "        '--input-equiliv-in',  'lmp_equiliv.in',\n",
    "        '--input-equiliv-sh',  'lmp_equiliv.sh',\n",
    "        '--input-lmp2data-py', 'lmp2data.py',\n",
    "        '--np',                '2',\n",
    "        '--gpu',               '1',\n",
    "        '--output-dir',        PROCESSING_OUTPUT_DIR,\n",
    "    ]\n",
    ")"
   ]
  },
  {
   "cell_type": "markdown",
   "id": "61e9a078",
   "metadata": {},
   "source": [
    "## シミュレーション結果の確認\n",
    "### ジョブの結果詳細確認"
   ]
  },
  {
   "cell_type": "code",
   "execution_count": null,
   "id": "e0898532",
   "metadata": {
    "scrolled": true
   },
   "outputs": [],
   "source": [
    "# 実行したジョブの詳細確認\n",
    "print(processor.latest_job.describe())"
   ]
  },
  {
   "cell_type": "markdown",
   "id": "53cad4a4",
   "metadata": {},
   "source": [
    "### ジョブの出力結果を取得"
   ]
  },
  {
   "cell_type": "code",
   "execution_count": null,
   "id": "7ae0b7bf",
   "metadata": {},
   "outputs": [],
   "source": [
    "job_name = processor.latest_job.describe()['ProcessingJobName']\n",
    "output_s3_uri = processor.latest_job.describe()['ProcessingOutputConfig']['Outputs'][0]['S3Output']['S3Uri']\n",
    "print(job_name, output_s3_uri)"
   ]
  },
  {
   "cell_type": "code",
   "execution_count": null,
   "id": "608aaf92",
   "metadata": {},
   "outputs": [],
   "source": [
    "# ローカル(ノートブックインスタンス)にダウンロード\n",
    "!mkdir ./{job_name}\n",
    "!aws s3 sync {output_s3_uri} ./{job_name}"
   ]
  },
  {
   "cell_type": "markdown",
   "id": "dbb5699a",
   "metadata": {},
   "source": [
    "## (応用編1)ポリエチレンのシミュレーションをグリッドサーチ\n",
    "* パラメータを変えながら一気にジョブを投入する\n",
    "* シミュレーションの開始時の温度を 2パターン (540K,550K)用意して、一気にジョブを流す\n",
    "* param_base/lmp_equliv.in に変数を変えるためのプレースホルダを事前に用意し、実行する時に書き換えてジョブを流す"
   ]
  },
  {
   "cell_type": "code",
   "execution_count": null,
   "id": "6d566518",
   "metadata": {},
   "outputs": [],
   "source": [
    "# tmpe1_1_variable という文字列がプレースホルダで、動的に書き換える\n",
    "!head -n12 ./param_base/lmp_equiliv.in"
   ]
  },
  {
   "cell_type": "code",
   "execution_count": null,
   "id": "ac6f1ab6",
   "metadata": {},
   "outputs": [],
   "source": [
    "# S3 から SageMaker Processing インスタンスへの転送先\n",
    "PROCESSING_INPUT_DIR = '/opt/ml/processing/input/'\n",
    "# SageMaker Processing インスタンス内の結果出力先\n",
    "PROCESSING_OUTPUT_DIR = '/opt/ml/processing/output'\n",
    "\n",
    "processor = sagemaker.processing.ScriptProcessor(\n",
    "    base_job_name='LAMMPS-polyethylene-grid',\n",
    "    image_uri=MY_IMAGE_URI,\n",
    "    command=['python'],\n",
    "    role=sagemaker.get_execution_role(),\n",
    "    instance_count=1,\n",
    "    instance_type='ml.g4dn.xlarge'\n",
    ")\n",
    "\n",
    "for i,kervin in enumerate([540,550]):\n",
    "    param_dir_name = f'param_{str(i)}'\n",
    "    # ディレクトリがあったら削除\n",
    "    if(os.path.isdir(param_dir_name) == True):\n",
    "        shutil.rmtree(param_dir_name)\n",
    "    # コピーし直す\n",
    "    shutil.copytree(\"./param_base\", f\"./{param_dir_name}\")\n",
    "    # プレースホルダーを置換\n",
    "    with open(f'{param_dir_name}/lmp_equiliv.in','r') as f:\n",
    "        lmp_equiliv_in = f.read()\n",
    "    lmp_equiliv_in = lmp_equiliv_in.replace('tmpe1_1_variable',str(kervin))\n",
    "    with open(f'{param_dir_name}/lmp_equiliv.in','w') as f:\n",
    "        f.write(lmp_equiliv_in)\n",
    "    \n",
    "    # S3 にアップロード\n",
    "    prefix = f'lammps_grid_{str(i)}'\n",
    "    input_s3_uri = sagemaker.session.Session().upload_data(path='param/', key_prefix=prefix)\n",
    "    print(input_s3_uri)\n",
    "    \n",
    "    processor.run(\n",
    "        code='src/run.py',\n",
    "        inputs=[ProcessingInput(source=input_s3_uri,destination=PROCESSING_INPUT_DIR),],\n",
    "        outputs=[ProcessingOutput(output_name='result',source=PROCESSING_OUTPUT_DIR),],\n",
    "        arguments=[\n",
    "            '--input-dir',         PROCESSING_INPUT_DIR,\n",
    "            '--input-equiliv-in',  'lmp_equiliv.in',\n",
    "            '--input-equiliv-sh',  'lmp_equiliv.sh',\n",
    "            '--input-lmp2data-py', 'lmp2data.py',\n",
    "            '--np',                '2',\n",
    "            '--gpu',               '1',\n",
    "            '--output-dir',        PROCESSING_OUTPUT_DIR,\n",
    "        ],\n",
    "        wait=False # ジョブの完了を待たずにすぐに結果を返す\n",
    "    )\n",
    "\n",
    "# ジョブが終わるまで待つ\n",
    "for job in processor.jobs:\n",
    "    job.wait()\n",
    "    "
   ]
  },
  {
   "cell_type": "code",
   "execution_count": null,
   "id": "3da6af98",
   "metadata": {},
   "outputs": [],
   "source": [
    "# ジョブの結果を手元にダウンロード\n",
    "for job in processor.jobs:\n",
    "#     !mkdir {job.describe()['ProcessingJobName']}\n",
    "    !aws s3 sync {job.describe()['ProcessingOutputConfig']['Outputs'][0]['S3Output']['S3Uri']} {job.describe()['ProcessingJobName']}"
   ]
  },
  {
   "cell_type": "code",
   "execution_count": null,
   "id": "90d035f5",
   "metadata": {},
   "outputs": [],
   "source": []
  },
  {
   "cell_type": "markdown",
   "id": "2d619e01",
   "metadata": {},
   "source": [
    "## (応用編2) SageMaker Processing のデバッグ"
   ]
  },
  {
   "cell_type": "code",
   "execution_count": null,
   "id": "f0599837",
   "metadata": {},
   "outputs": [],
   "source": []
  }
 ],
 "metadata": {
  "kernelspec": {
   "display_name": "conda_python3",
   "language": "python",
   "name": "conda_python3"
  },
  "language_info": {
   "codemirror_mode": {
    "name": "ipython",
    "version": 3
   },
   "file_extension": ".py",
   "mimetype": "text/x-python",
   "name": "python",
   "nbconvert_exporter": "python",
   "pygments_lexer": "ipython3",
   "version": "3.6.13"
  }
 },
 "nbformat": 4,
 "nbformat_minor": 5
}
