{
 "cells": [
  {
   "cell_type": "code",
   "execution_count": null,
   "id": "46e5ddcd",
   "metadata": {
    "scrolled": true
   },
   "outputs": [],
   "source": [
    "!chmod +x ./setup.sh\n",
    "!./setup.sh"
   ]
  },
  {
   "cell_type": "code",
   "execution_count": null,
   "id": "a828aca3",
   "metadata": {},
   "outputs": [],
   "source": [
    "import boto3, sagemaker, os\n",
    "from sagemaker.processing import ScriptProcessor, ProcessingInput, ProcessingOutput"
   ]
  },
  {
   "cell_type": "code",
   "execution_count": null,
   "id": "1ec3bbb4",
   "metadata": {},
   "outputs": [],
   "source": [
    "MY_ACCOUNT_ID = boto3.client('sts').get_caller_identity().get('Account')\n",
    "PUBLIC_ACCOUNT_ID = '763104351884'\n",
    "\n",
    "REGION = boto3.session.Session().region_name\n",
    "\n",
    "MY_ECR_ENDPOINT = f'{MY_ACCOUNT_ID}.dkr.ecr.{REGION}.amazonaws.com/'\n",
    "PUBLIC_ECR_ENDPOINT =  f'{PUBLIC_ACCOUNT_ID}.dkr.ecr.{REGION}.amazonaws.com/'\n",
    "\n",
    "IMAGE_NAME = 'lampps'\n",
    "TAG=':latest'\n",
    "\n",
    "MY_REPOSITORY_URI = f'{MY_ECR_ENDPOINT}{IMAGE_NAME}'\n",
    "MY_IMAGE_URI = f'{MY_REPOSITORY_URI}{TAG}'\n",
    "\n",
    "# # Public ECR ログイン\n",
    "!aws ecr get-login-password --region ap-northeast-1 | docker login --username AWS --password-stdin {PUBLIC_ECR_ENDPOINT}"
   ]
  },
  {
   "cell_type": "code",
   "execution_count": null,
   "id": "f13c0793",
   "metadata": {
    "scrolled": true
   },
   "outputs": [],
   "source": [
    "%%time\n",
    "\n",
    "%cd ./container\n",
    "!docker stop $(docker ps -q)\n",
    "!docker rm $(docker ps -q -a)\n",
    "!docker rmi -f $(docker images -a -q)\n",
    "!docker build -t {IMAGE_NAME}{TAG} .\n",
    "%cd ../"
   ]
  },
  {
   "cell_type": "code",
   "execution_count": null,
   "id": "483bf324",
   "metadata": {},
   "outputs": [],
   "source": [
    "# !docker run --gpus all -v {os.getcwd()}/src/:/test -d {IMAGE_NAME}{TAG} sh -c 'tail -f /dev/null'\n",
    "# print(f'docker run --gpus all -v {os.getcwd()}/src/:/test -it --rm --entrypoint \"bash\" lampps:latest')"
   ]
  },
  {
   "cell_type": "code",
   "execution_count": null,
   "id": "6385f219",
   "metadata": {
    "scrolled": true
   },
   "outputs": [],
   "source": [
    "!$(aws ecr get-login --region {REGION} --registry-ids {MY_ACCOUNT_ID} --no-include-email)\n",
    " \n",
    "# リポジトリの作成\n",
    "# すでにある場合はこのコマンドは必要ない\n",
    "!aws ecr delete-repository --repository-name {IMAGE_NAME} --force\n",
    "!aws ecr create-repository --repository-name {IMAGE_NAME}\n",
    " \n",
    "# !docker push $image_uri\n",
    "!docker tag {IMAGE_NAME}{TAG} {MY_IMAGE_URI}\n",
    "!docker push {MY_IMAGE_URI}\n",
    "\n",
    "print(f'コンテナイメージは {MY_IMAGE_URI} へ登録されています。')"
   ]
  },
  {
   "cell_type": "code",
   "execution_count": null,
   "id": "0582ca3c",
   "metadata": {},
   "outputs": [],
   "source": [
    "prefix = 'lammps'\n",
    "input_s3_uri = sagemaker.session.Session().upload_data(path='src/', key_prefix=prefix)\n",
    "print(input_s3_uri)"
   ]
  },
  {
   "cell_type": "code",
   "execution_count": null,
   "id": "96f75f01",
   "metadata": {},
   "outputs": [],
   "source": [
    "# S3 から SageMaker Processing インスタンスへの転送先\n",
    "PROCESSING_INPUT_DIR = '/opt/ml/processing/input/'\n",
    "\n",
    "# SageMaker Processing インスタンス内の結果出力先\n",
    "PROCESSING_OUTPUT_DIR = '/opt/ml/processing/output'\n",
    "\n",
    "print(PROCESSING_INPUT_DIR)\n",
    "print(PROCESSING_OUTPUT_DIR)"
   ]
  },
  {
   "cell_type": "code",
   "execution_count": null,
   "id": "62443d74",
   "metadata": {},
   "outputs": [],
   "source": [
    "processor = sagemaker.processing.ScriptProcessor(\n",
    "    base_job_name='LAMMPS',\n",
    "    image_uri=MY_IMAGE_URI,\n",
    "    command=['python'],\n",
    "    role=sagemaker.get_execution_role(),\n",
    "    instance_count=1,\n",
    "    instance_type='ml.g4dn.xlarge'\n",
    ")"
   ]
  },
  {
   "cell_type": "code",
   "execution_count": null,
   "id": "c889db43",
   "metadata": {
    "scrolled": true
   },
   "outputs": [],
   "source": [
    "processor.run(code='src/run.py', # S3 の URI でも可\n",
    "             inputs=[\n",
    "                 ProcessingInput(source=input_s3_uri,destination=PROCESSING_INPUT_DIR),\n",
    "             ],\n",
    "             outputs=[\n",
    "                 ProcessingOutput(output_name='result',source=PROCESSING_OUTPUT_DIR)],\n",
    "              arguments=[\n",
    "                  '--input-dir',         PROCESSING_INPUT_DIR,\n",
    "                  '--input-tmp-data',    'lmp_tmp1.data',\n",
    "                  '--input-equiliv-in',  'lmp_equiliv.in',\n",
    "                  '--input-equiliv-sh',  'lmp_equiliv.sh',\n",
    "                  '--input-lmp2data-py', 'lmp2data.py',\n",
    "                  '--np',                '2',\n",
    "                  '--gpu',               '1',\n",
    "                  '--output-dir',        PROCESSING_OUTPUT_DIR,\n",
    "              ]\n",
    "             )"
   ]
  },
  {
   "cell_type": "code",
   "execution_count": null,
   "id": "6f1896cf",
   "metadata": {},
   "outputs": [],
   "source": [
    "processor.latest_job.describe()"
   ]
  },
  {
   "cell_type": "code",
   "execution_count": null,
   "id": "88ff857a",
   "metadata": {},
   "outputs": [],
   "source": []
  }
 ],
 "metadata": {
  "kernelspec": {
   "display_name": "conda_python3",
   "language": "python",
   "name": "conda_python3"
  },
  "language_info": {
   "codemirror_mode": {
    "name": "ipython",
    "version": 3
   },
   "file_extension": ".py",
   "mimetype": "text/x-python",
   "name": "python",
   "nbconvert_exporter": "python",
   "pygments_lexer": "ipython3",
   "version": "3.6.13"
  }
 },
 "nbformat": 4,
 "nbformat_minor": 5
}
