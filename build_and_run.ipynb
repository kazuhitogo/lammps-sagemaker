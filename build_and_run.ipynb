{
 "cells": [
  {
   "cell_type": "markdown",
   "id": "c74d7bbb",
   "metadata": {},
   "source": [
    "# 分子動力学プログラム LAMMPS を Amazon SageMaker Processing で GPU を用いて動かすサンプル\n",
    "\n",
    "* [LAMMPS](https://www.lammps.org/) を Amazon SageMaker Processing で動かす。細かい情報は下記を参照。\n",
    "    * [LAMMPSのマニュアル](https://docs.lammps.org/Manual.html)\n",
    "    * [ポリエチレン分子をシミュレーション](https://winmostar.com/jp/tutorials/LAMMPS_tutorial_8%28Polymer_Elongation%29.pdf)\n",
    "    * [SageMaker SDK doc](https://sagemaker.readthedocs.io/en/stable/amazon_sagemaker_processing.html)\n",
    "    * [SageMaker Processing 開発者ガイド](https://docs.aws.amazon.com/sagemaker/latest/dg/processing-job.html)\n",
    "\n",
    "このノートブックは Amazon SageMaker Notebook(≠Studio) の GPU インスタンス(g4dn.xlargeなど)で実行することを前提とする。理由は以下の通り。\n",
    "\n",
    "1. docker コマンドを使うため(Studioを使う場合は sm-docker コマンドに修正の必要あり)\n",
    "2. ビルドしたコンテナをローカル(SageMaker Notebook内)でテスト実行するのにあたり、GPU で動かす必要があるため"
   ]
  },
  {
   "cell_type": "markdown",
   "id": "3fb5b5be",
   "metadata": {},
   "source": [
    "## コンテナイメージのビルド\n",
    "まずは SageMaker Processing で LAMMPS が動かせるよう、コンテナイメージの中で LAMMPS をビルドする。  \n",
    "### ビルド環境のセットアップ\n",
    "ビルドは、`/var/lib/docker`を利用するが、SageMaker Notebook では該当領域は`/` にマウントされた 15GB では、ビルドに耐えられないので、別途 EBS をマウントしている`/home/ec2-user/SageMaker`以下の領域を使うように変更するスクリプトを実行する"
   ]
  },
  {
   "cell_type": "code",
   "execution_count": null,
   "id": "2751e5b0",
   "metadata": {},
   "outputs": [],
   "source": [
    "cat ./setup.sh"
   ]
  },
  {
   "cell_type": "code",
   "execution_count": null,
   "id": "2ef289d2",
   "metadata": {
    "scrolled": true
   },
   "outputs": [],
   "source": [
    "!./setup.sh"
   ]
  },
  {
   "cell_type": "markdown",
   "id": "08839691",
   "metadata": {},
   "source": [
    "### ビルド"
   ]
  },
  {
   "cell_type": "code",
   "execution_count": null,
   "id": "cb28a8eb",
   "metadata": {},
   "outputs": [],
   "source": [
    "import boto3, sagemaker, os\n",
    "from sagemaker.processing import ScriptProcessor, ProcessingInput, ProcessingOutput"
   ]
  },
  {
   "cell_type": "code",
   "execution_count": null,
   "id": "a4bc8dcd",
   "metadata": {
    "scrolled": true
   },
   "outputs": [],
   "source": [
    "%%time\n",
    "\n",
    "IMAGE_NAME = 'lampps'\n",
    "TAG=':latest'\n",
    "\n",
    "%cd ./container\n",
    "# !docker stop $(docker ps -q)\n",
    "# !docker rm $(docker ps -q -a)\n",
    "# !docker rmi -f $(docker images -a -q)\n",
    "!docker build -t {IMAGE_NAME}{TAG} .\n",
    "%cd ../"
   ]
  },
  {
   "cell_type": "markdown",
   "id": "dd280391",
   "metadata": {},
   "source": [
    "### Image Test\n",
    "できたイメージが問題なく動くか、このインスタンスでコンテナを動かし、その上でシミュレーションを行う。  \n",
    "まずは docker run コマンドでコンテナを動かす"
   ]
  },
  {
   "cell_type": "markdown",
   "id": "1b318dba",
   "metadata": {},
   "source": [
    "terminal から下記コマンドを実行\n",
    "```\n",
    "cd /home/ec2-user/SageMaker/lampps-sagemaker # clone した先のディレクトリ\n",
    "docker run --gpus all -v /home/ec2-user/SageMaker/lampps-sagemaker/test/:/test -it --rm --entrypoint \"bash\" lampps:latest\n",
    "cd /test\n",
    "./lmp_equiliv.sh\n",
    "\n",
    "# 終わったら exit で抜ける\n",
    "exit \n",
    "```"
   ]
  },
  {
   "cell_type": "markdown",
   "id": "f5dd1ebf",
   "metadata": {},
   "source": [
    "### Push"
   ]
  },
  {
   "cell_type": "code",
   "execution_count": null,
   "id": "d61f306b",
   "metadata": {
    "scrolled": true
   },
   "outputs": [],
   "source": [
    "%%time\n",
    "\n",
    "MY_ACCOUNT_ID = boto3.client('sts').get_caller_identity().get('Account')\n",
    "# PUBLIC_ACCOUNT_ID = '763104351884'\n",
    "\n",
    "REGION = boto3.session.Session().region_name\n",
    "\n",
    "MY_ECR_ENDPOINT = f'{MY_ACCOUNT_ID}.dkr.ecr.{REGION}.amazonaws.com/'\n",
    "\n",
    "\n",
    "\n",
    "MY_REPOSITORY_URI = f'{MY_ECR_ENDPOINT}{IMAGE_NAME}'\n",
    "MY_IMAGE_URI = f'{MY_REPOSITORY_URI}{TAG}'\n",
    "\n",
    "!$(aws ecr get-login --region {REGION} --registry-ids {MY_ACCOUNT_ID} --no-include-email)\n",
    " \n",
    "# リポジトリの作成\n",
    "# すでにある場合はこのコマンドは必要ない\n",
    "!aws ecr delete-repository --repository-name {IMAGE_NAME} --force\n",
    "!aws ecr create-repository --repository-name {IMAGE_NAME}\n",
    " \n",
    "# !docker push $image_uri\n",
    "!docker tag {IMAGE_NAME}{TAG} {MY_IMAGE_URI}\n",
    "!docker push {MY_IMAGE_URI}\n",
    "\n",
    "print(f'コンテナイメージは {MY_IMAGE_URI} へ登録されています。')"
   ]
  },
  {
   "cell_type": "markdown",
   "id": "74f28a07",
   "metadata": {},
   "source": [
    "## SageMaker Processing で ポリエチレンのシミュレーション"
   ]
  },
  {
   "cell_type": "markdown",
   "id": "f77e2e0d",
   "metadata": {},
   "source": [
    "### 必要なデータ(パラメータファイルなど)を S3 にアップロード"
   ]
  },
  {
   "cell_type": "code",
   "execution_count": null,
   "id": "d3a480e5",
   "metadata": {},
   "outputs": [],
   "source": [
    "prefix = 'lammps_simple'\n",
    "input_s3_uri = sagemaker.session.Session().upload_data(path='param/', key_prefix=prefix)\n",
    "print(input_s3_uri)"
   ]
  },
  {
   "cell_type": "markdown",
   "id": "d198d1a0",
   "metadata": {},
   "source": [
    "### SageMaker Processing の実行パラメータを設定"
   ]
  },
  {
   "cell_type": "code",
   "execution_count": null,
   "id": "b1110245",
   "metadata": {},
   "outputs": [],
   "source": [
    "# S3 から SageMaker Processing インスタンスへの転送先\n",
    "PROCESSING_INPUT_DIR = '/opt/ml/processing/input/'\n",
    "\n",
    "# SageMaker Processing インスタンス内の結果出力先\n",
    "PROCESSING_OUTPUT_DIR = '/opt/ml/processing/output'\n",
    "\n",
    "print(PROCESSING_INPUT_DIR)\n",
    "print(PROCESSING_OUTPUT_DIR)"
   ]
  },
  {
   "cell_type": "code",
   "execution_count": null,
   "id": "120423e5",
   "metadata": {},
   "outputs": [],
   "source": [
    "processor = sagemaker.processing.ScriptProcessor(\n",
    "    base_job_name='LAMMPS-polyethylene',\n",
    "    image_uri=MY_IMAGE_URI,\n",
    "    command=['python'],\n",
    "    role=sagemaker.get_execution_role(),\n",
    "    instance_count=1,\n",
    "    instance_type='ml.g4dn.xlarge'\n",
    ")"
   ]
  },
  {
   "cell_type": "markdown",
   "id": "b54fcc42",
   "metadata": {},
   "source": [
    "### SageMaker Processing でシミュレーションを実行"
   ]
  },
  {
   "cell_type": "code",
   "execution_count": null,
   "id": "4c5099d6",
   "metadata": {
    "scrolled": true
   },
   "outputs": [],
   "source": [
    "processor.run(code='src/run.py', # S3 の URI でも可\n",
    "             inputs=[\n",
    "                 ProcessingInput(source=input_s3_uri,destination=PROCESSING_INPUT_DIR),\n",
    "             ],\n",
    "             outputs=[\n",
    "                 ProcessingOutput(output_name='result',source=PROCESSING_OUTPUT_DIR)],\n",
    "              arguments=[\n",
    "                  '--input-dir',         PROCESSING_INPUT_DIR,\n",
    "                  '--input-equiliv-in',  'lmp_equiliv.in',\n",
    "                  '--input-equiliv-sh',  'lmp_equiliv.sh',\n",
    "                  '--input-lmp2data-py', 'lmp2data.py',\n",
    "                  '--np',                '2',\n",
    "                  '--gpu',               '1',\n",
    "                  '--output-dir',        PROCESSING_OUTPUT_DIR,\n",
    "              ]\n",
    "             )"
   ]
  },
  {
   "cell_type": "code",
   "execution_count": null,
   "id": "7fe35996",
   "metadata": {},
   "outputs": [],
   "source": [
    "processor.latest_job.describe()"
   ]
  },
  {
   "cell_type": "code",
   "execution_count": null,
   "id": "3bd1ba76",
   "metadata": {},
   "outputs": [],
   "source": []
  }
 ],
 "metadata": {
  "kernelspec": {
   "display_name": "conda_python3",
   "language": "python",
   "name": "conda_python3"
  },
  "language_info": {
   "codemirror_mode": {
    "name": "ipython",
    "version": 3
   },
   "file_extension": ".py",
   "mimetype": "text/x-python",
   "name": "python",
   "nbconvert_exporter": "python",
   "pygments_lexer": "ipython3",
   "version": "3.6.13"
  }
 },
 "nbformat": 4,
 "nbformat_minor": 5
}
