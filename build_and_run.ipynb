{
 "cells": [
  {
   "cell_type": "code",
   "execution_count": null,
   "id": "5eeecc60",
   "metadata": {
    "scrolled": true
   },
   "outputs": [],
   "source": [
    "!chmod +x ./setup.sh\n",
    "!./setup.sh"
   ]
  },
  {
   "cell_type": "code",
   "execution_count": null,
   "id": "d836a185",
   "metadata": {},
   "outputs": [],
   "source": [
    "import boto3, sagemaker,os"
   ]
  },
  {
   "cell_type": "code",
   "execution_count": null,
   "id": "bd90825e",
   "metadata": {},
   "outputs": [],
   "source": [
    "MY_ACCOUNT_ID = boto3.client('sts').get_caller_identity().get('Account')\n",
    "PUBLIC_ACCOUNT_ID = '763104351884'\n",
    "\n",
    "REGION = boto3.session.Session().region_name\n",
    "\n",
    "MY_ECR_ENDPOINT = f'{MY_ACCOUNT_ID}.dkr.ecr.{REGION}.amazonaws.com/'\n",
    "PUBLIC_ECR_ENDPOINT =  f'{PUBLIC_ACCOUNT_ID}.dkr.ecr.{REGION}.amazonaws.com/'\n",
    "\n",
    "IMAGE_NAME = 'lampps'\n",
    "TAG=':latest'\n",
    "\n",
    "MY_REPOSITORY_URI = f'{MY_ECR_ENDPOINT}{IMAGE_NAME}'\n",
    "MY_IMAGE_URI = f'{MY_REPOSITORY_URI}{TAG}'\n",
    "\n",
    "# Public ECR ログイン\n",
    "!aws ecr get-login-password --region ap-northeast-1 | docker login --username AWS --password-stdin {PUBLIC_ECR_ENDPOINT}"
   ]
  },
  {
   "cell_type": "code",
   "execution_count": null,
   "id": "5f0f3ab4",
   "metadata": {
    "scrolled": true
   },
   "outputs": [],
   "source": [
    "%cd ./container\n",
    "!docker stop $(docker ps -q)\n",
    "!docker rm $(docker ps -q -a)\n",
    "!docker rmi -f $(docker images -a -q)\n",
    "!docker build -t {IMAGE_NAME}{TAG} .\n",
    "%cd ../"
   ]
  },
  {
   "cell_type": "code",
   "execution_count": null,
   "id": "9fdf3297",
   "metadata": {},
   "outputs": [],
   "source": [
    "!docker run --gpus all -v {os.getcwd()}/src/:/test -d {IMAGE_NAME}{TAG} sh -c 'tail -f /dev/null'"
   ]
  },
  {
   "cell_type": "code",
   "execution_count": null,
   "id": "135e84b3",
   "metadata": {},
   "outputs": [],
   "source": []
  }
 ],
 "metadata": {
  "kernelspec": {
   "display_name": "conda_python3",
   "language": "python",
   "name": "conda_python3"
  },
  "language_info": {
   "codemirror_mode": {
    "name": "ipython",
    "version": 3
   },
   "file_extension": ".py",
   "mimetype": "text/x-python",
   "name": "python",
   "nbconvert_exporter": "python",
   "pygments_lexer": "ipython3",
   "version": "3.6.13"
  }
 },
 "nbformat": 4,
 "nbformat_minor": 5
}
