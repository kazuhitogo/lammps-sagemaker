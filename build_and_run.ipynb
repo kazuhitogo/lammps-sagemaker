{
 "cells": [
  {
   "cell_type": "markdown",
   "id": "e30c5f8e",
   "metadata": {},
   "source": [
    "# 分子動力学プログラム LAMMPS を Amazon SageMaker Processing で GPU を用いて動かすサンプル\n",
    "\n",
    "* [LAMMPS](https://www.lammps.org/) を Amazon SageMaker Processing で動かす。細かい情報は下記を参照。\n",
    "    * [LAMMPSのマニュアル](https://docs.lammps.org/Manual.html)\n",
    "    * [ポリエチレン分子をシミュレーション](https://winmostar.com/jp/tutorials/LAMMPS_tutorial_8%28Polymer_Elongation%29.pdf)\n",
    "    * [SageMaker SDK doc](https://sagemaker.readthedocs.io/en/stable/amazon_sagemaker_processing.html)\n",
    "    * [SageMaker Processing 開発者ガイド](https://docs.aws.amazon.com/sagemaker/latest/dg/processing-job.html)\n",
    "\n",
    "このノートブックは Amazon SageMaker Notebook(≠Studio) の GPU インスタンス(g4dn.xlargeなど)で実行することを前提とする。理由は以下の通り。\n",
    "\n",
    "1. docker コマンドを使うため(Studioを使う場合は sm-docker コマンドに修正の必要あり)\n",
    "2. ビルドしたコンテナをローカル(SageMaker Notebook内)でテスト実行するのにあたり、GPU で動かす必要があるため"
   ]
  },
  {
   "cell_type": "code",
   "execution_count": null,
   "id": "2711821b",
   "metadata": {
    "scrolled": true
   },
   "outputs": [],
   "source": [
    "pip install sagemaker -U"
   ]
  },
  {
   "cell_type": "code",
   "execution_count": null,
   "id": "11171790",
   "metadata": {},
   "outputs": [],
   "source": [
    "# 使用するライブラリを読み込み\n",
    "import boto3, sagemaker, os, shutil, re\n",
    "from sagemaker.tensorflow import TensorFlow\n",
    "import pandas as pd\n",
    "from matplotlib import pyplot as plt\n",
    "from io import StringIO"
   ]
  },
  {
   "cell_type": "markdown",
   "id": "409c5c39",
   "metadata": {},
   "source": [
    "## コンテナイメージのビルド\n",
    "まずは SageMaker Processing で LAMMPS が動かせるよう、コンテナイメージの中で LAMMPS をビルドする。  \n",
    "### ビルド環境のセットアップ\n",
    "ビルドは、`/var/lib/docker`を利用するが、SageMaker Notebook では該当領域は`/` にマウントされた 15GB では、ビルドに耐えられないので、別途 EBS をマウントしている`/home/ec2-user/SageMaker`以下の領域を使うように変更するスクリプトを実行する"
   ]
  },
  {
   "cell_type": "code",
   "execution_count": null,
   "id": "48a0868c",
   "metadata": {},
   "outputs": [],
   "source": [
    "cat ./setup.sh"
   ]
  },
  {
   "cell_type": "code",
   "execution_count": null,
   "id": "7b9aa28a",
   "metadata": {
    "scrolled": true
   },
   "outputs": [],
   "source": [
    "!./setup.sh"
   ]
  },
  {
   "cell_type": "code",
   "execution_count": null,
   "id": "4108998c",
   "metadata": {},
   "outputs": [],
   "source": [
    "!sudo /etc/init.d/docker stop\n",
    "!sudo mv /var/lib/docker /home/ec2-user/SageMaker/docker\n",
    "!sudo ln -s /home/ec2-user/SageMaker/docker /var/lib/docker\n",
    "!sudo /etc/init.d/docker start"
   ]
  },
  {
   "cell_type": "markdown",
   "id": "3ced4aa8",
   "metadata": {},
   "source": [
    "### ビルド"
   ]
  },
  {
   "cell_type": "code",
   "execution_count": null,
   "id": "5b35cda8",
   "metadata": {
    "scrolled": true
   },
   "outputs": [],
   "source": [
    "%%time\n",
    "\n",
    "IMAGE_NAME = 'lampps'\n",
    "TAG=':v1'\n",
    "\n",
    "!$(aws ecr get-login --region ap-northeast-1 --registry-ids 763104351884 --no-include-email)\n",
    "\n",
    "%cd ./container\n",
    "# !docker stop $(docker ps -q)\n",
    "# !docker rm $(docker ps -q -a)\n",
    "# !docker rmi -f $(docker images -a -q)\n",
    "!docker build -t {IMAGE_NAME}{TAG} .\n",
    "%cd ../"
   ]
  },
  {
   "cell_type": "markdown",
   "id": "a7c4a898",
   "metadata": {},
   "source": [
    "### Image Test\n",
    "ビルドしたイメージをテストする。  \n",
    "このインスタンスでコンテナを動かし、mpirunコマンド(`./lmp_equiliv.sh`に内包)を実行し実際にシミュレーションを行う。  "
   ]
  },
  {
   "cell_type": "markdown",
   "id": "546ac900",
   "metadata": {},
   "source": [
    "jupyter notebook の new -> terminal から下記セルの出力をコピーして実行"
   ]
  },
  {
   "cell_type": "code",
   "execution_count": null,
   "id": "ecafc92b",
   "metadata": {},
   "outputs": [],
   "source": [
    "command_str = f\"\"\"\n",
    "cd {os.getcwd()} # clone した先のディレクトリに cd\n",
    "\n",
    "docker run --gpus all -v {os.getcwd()}/test/:/test -it --rm --entrypoint \"bash\" {IMAGE_NAME}{TAG}\n",
    "\n",
    "cd /test\n",
    "\n",
    "./lmp_equiliv.sh\n",
    "\n",
    "tail -n1 lmp_equiliv.log # 実行時間が出ていたらOK, 概ね g4dn.xlarge で 6 分弱で完了\n",
    "\n",
    "tail -n1 lmp2data_equiliv.log  # finish replica が出ていたらOK\n",
    "\n",
    "exit # 終わったら exit でコンテナから抜ける(コンテナも終了する)\n",
    "\"\"\"\n",
    "print(command_str)"
   ]
  },
  {
   "cell_type": "markdown",
   "id": "e7fa347d",
   "metadata": {},
   "source": [
    "### Push"
   ]
  },
  {
   "cell_type": "code",
   "execution_count": null,
   "id": "045922f9",
   "metadata": {
    "scrolled": true
   },
   "outputs": [],
   "source": [
    "%%time\n",
    "\n",
    "MY_ACCOUNT_ID = boto3.client('sts').get_caller_identity().get('Account')\n",
    "# PUBLIC_ACCOUNT_ID = '763104351884'\n",
    "\n",
    "REGION = boto3.session.Session().region_name\n",
    "\n",
    "MY_ECR_ENDPOINT = f'{MY_ACCOUNT_ID}.dkr.ecr.{REGION}.amazonaws.com/'\n",
    "\n",
    "\n",
    "\n",
    "MY_REPOSITORY_URI = f'{MY_ECR_ENDPOINT}sagemaker-{IMAGE_NAME}'\n",
    "MY_IMAGE_URI = f'{MY_REPOSITORY_URI}{TAG}'\n",
    "\n",
    "!$(aws ecr get-login --region {REGION} --registry-ids {MY_ACCOUNT_ID} --no-include-email)\n",
    " \n",
    "# リポジトリの作成\n",
    "# !aws ecr delete-repository --repository-name {IMAGE_NAME} --force # 同名のリポジトリがあった場合削除\n",
    "# !aws ecr create-repository --repository-name sagemaker-{IMAGE_NAME}\n",
    " \n",
    "# !docker tag {IMAGE_NAME}{TAG} {MY_IMAGE_URI}\n",
    "# !docker push {MY_IMAGE_URI}\n",
    "\n",
    "print(f'コンテナイメージは {MY_IMAGE_URI} へ登録されています。')"
   ]
  },
  {
   "cell_type": "markdown",
   "id": "dcefd473",
   "metadata": {},
   "source": [
    "## SageMaker Processing で ポリエチレンのシミュレーション\n",
    "* コンテナイメージの作成が完了したので、シミュレーションのジョブを投入する\n",
    "* 以降重い処理はこのノートブックインスタンスで実行することはなく、ただジョブの投入を行うだけなので、t3.mediumなどでも十分動く"
   ]
  },
  {
   "cell_type": "markdown",
   "id": "ce49c5f5",
   "metadata": {},
   "source": [
    "### 必要なデータ(パラメータファイルなど)を S3 にアップロード"
   ]
  },
  {
   "cell_type": "code",
   "execution_count": null,
   "id": "1885badd",
   "metadata": {},
   "outputs": [],
   "source": [
    "prefix = 'lammps_simple_training'\n",
    "input_s3_uri = sagemaker.session.Session().upload_data(path='param/', key_prefix=prefix)\n",
    "print(input_s3_uri)"
   ]
  },
  {
   "cell_type": "markdown",
   "id": "e39911ac",
   "metadata": {},
   "source": [
    "### ローカルモードでシミュレーションを実行\n",
    "* debug 用途\n",
    "    * トレーニングインスタンスは立ち上げに時間がかかるため、ノートブックインスタンスでトレーニングジョブを動かすことができる\n",
    "    * 本来ノートブックインスタンスは低スペック（コード記述とAPI実行用）なため、ローカルモードでの本番運用はすべきでない\n",
    "* src/run.py の実行確認\n",
    "* シミュレーションは軽めにしておいて、run.pyの動作確認を行う"
   ]
  },
  {
   "cell_type": "code",
   "execution_count": null,
   "id": "ab4ca073",
   "metadata": {},
   "outputs": [],
   "source": [
    "local_estimator = sagemaker.tensorflow.TensorFlow(\n",
    "    base_job_name=BASE_JOB_NAME,\n",
    "    entry_point='src/run.py',\n",
    "    role=sagemaker.get_execution_role(),\n",
    "    image_uri=MY_IMAGE_URI,\n",
    "    instance_count=1,\n",
    "    instance_type='local',\n",
    "    hyperparameters={\n",
    "        'np':'2',\n",
    "        'gpu':'1'\n",
    "    }\n",
    ")\n",
    "local_estimator.fit({\n",
    "    'param': input_s3_uri\n",
    "})"
   ]
  },
  {
   "cell_type": "markdown",
   "id": "4413e12e",
   "metadata": {},
   "source": [
    "### トレーニングインスタンスでシミュレーションを実行\n",
    "* GPU インスタンスで実行\n",
    "* 成功していたら最後に `finish replica` と表示される"
   ]
  },
  {
   "cell_type": "code",
   "execution_count": null,
   "id": "998c1489",
   "metadata": {},
   "outputs": [],
   "source": [
    "BASE_JOB_NAME='LAMMPS-polyethylene-simple'\n",
    "estimator = TensorFlow(\n",
    "    base_job_name=BASE_JOB_NAME,\n",
    "    entry_point='src/run.py',\n",
    "    role=sagemaker.get_execution_role(),\n",
    "    image_uri=MY_IMAGE_URI,\n",
    "    instance_count=1,\n",
    "    instance_type='ml.g4dn.xlarge',\n",
    "    hyperparameters={\n",
    "        'np':'2',\n",
    "        'gpu':'1'\n",
    "    }\n",
    ")\n",
    "estimator.fit(inputs={'param': input_s3_uri})"
   ]
  },
  {
   "cell_type": "markdown",
   "id": "c9c24820",
   "metadata": {},
   "source": [
    "## シミュレーション結果の確認\n",
    "### ジョブの結果詳細確認"
   ]
  },
  {
   "cell_type": "code",
   "execution_count": null,
   "id": "b88521de",
   "metadata": {
    "scrolled": true
   },
   "outputs": [],
   "source": [
    "# 実行したジョブの詳細確認\n",
    "estimator.latest_training_job.describe()"
   ]
  },
  {
   "cell_type": "markdown",
   "id": "972d498b",
   "metadata": {},
   "source": [
    "### ジョブの出力結果を取得"
   ]
  },
  {
   "cell_type": "code",
   "execution_count": null,
   "id": "199b3df5",
   "metadata": {},
   "outputs": [],
   "source": [
    "job_name = estimator.latest_training_job.describe()['TrainingJobName']\n",
    "output_s3_uri = estimator.latest_training_job.describe()['ModelArtifacts']['S3ModelArtifacts']\n",
    "print(job_name, output_s3_uri)"
   ]
  },
  {
   "cell_type": "code",
   "execution_count": null,
   "id": "f38d8489",
   "metadata": {},
   "outputs": [],
   "source": [
    "# ローカル(ノートブックインスタンス)にダウンロード\n",
    "!mkdir ./{job_name}\n",
    "!aws s3 cp {output_s3_uri} ./{job_name}\n",
    "!tar zxvf {job_name}/model.tar.gz -C ./{job_name}"
   ]
  },
  {
   "cell_type": "markdown",
   "id": "6fbe43fb",
   "metadata": {},
   "source": [
    "## (応用編1)ポリエチレンのシミュレーションをグリッドサーチ\n",
    "* パラメータを変えながら一気にジョブを投入する\n",
    "* シミュレーションの開始時の温度を 2パターン (540K,550K)用意して、一気にジョブを流す\n",
    "* param_base/lmp_equliv.in に変数を変えるためのプレースホルダを事前に用意し、実行する時に書き換えてジョブを流す"
   ]
  },
  {
   "cell_type": "code",
   "execution_count": null,
   "id": "de4b999b",
   "metadata": {},
   "outputs": [],
   "source": [
    "# tmpe1_1_variable という文字列がプレースホルダで、動的に書き換える\n",
    "!head -n12 ./param_base/lmp_equiliv.in"
   ]
  },
  {
   "cell_type": "code",
   "execution_count": null,
   "id": "3178c327",
   "metadata": {},
   "outputs": [],
   "source": [
    "prefix = 'lammps_grid_training'\n",
    "input_s3_uri = sagemaker.session.Session().upload_data(path='param_base/', key_prefix=prefix)\n",
    "print(input_s3_uri)\n",
    "BASE_JOB_NAME='LAMMPS-polyethylene-grid'\n",
    "estimators = []\n",
    "for i,kervin in enumerate([540,550]):\n",
    "    estimator = TensorFlow(\n",
    "        base_job_name=BASE_JOB_NAME,\n",
    "        entry_point='src_grid/run.py',\n",
    "        role=sagemaker.get_execution_role(),\n",
    "        image_uri=MY_IMAGE_URI,\n",
    "        instance_count=1,\n",
    "        instance_type='ml.g4dn.xlarge',\n",
    "        hyperparameters={\n",
    "            'np':'2',\n",
    "            'gpu':'1',\n",
    "            'tempe1-1-variable': str(kervin),\n",
    "            'tempe1-2-variable':'550',\n",
    "            'dt1-variable'     :'1.6',\n",
    "            'nrun1-variable'   :'ceil(1e5)'\n",
    "        }\n",
    "    )\n",
    "    estimator.fit(\n",
    "        inputs={'param': input_s3_uri},\n",
    "        wait=False\n",
    "    )\n",
    "    estimators.append(estimator)"
   ]
  },
  {
   "cell_type": "code",
   "execution_count": null,
   "id": "40363af5",
   "metadata": {},
   "outputs": [],
   "source": [
    "# ジョブが終わるまで待つ\n",
    "for estimator in estimators:\n",
    "    for job in estimator.jobs:\n",
    "        job.wait()"
   ]
  },
  {
   "cell_type": "code",
   "execution_count": null,
   "id": "5275bc96",
   "metadata": {
    "scrolled": true
   },
   "outputs": [],
   "source": [
    "# ジョブの結果を手元にダウンロード\n",
    "for estimator in estimators:\n",
    "    for job in estimator.jobs:\n",
    "        job_name = job.describe()['TrainingJobName']\n",
    "        output_s3_uri = job.describe()['ModelArtifacts']['S3ModelArtifacts']\n",
    "        !mkdir -p {job_name}\n",
    "        !aws s3 cp {output_s3_uri} {job_name}\n",
    "        !tar zxvf {job_name}/model.tar.gz -C ./{job_name}"
   ]
  },
  {
   "cell_type": "code",
   "execution_count": null,
   "id": "9e828e23",
   "metadata": {
    "scrolled": true
   },
   "outputs": [],
   "source": [
    "# 可視化\n",
    "dfs = {}\n",
    "for estimator in estimators:\n",
    "    for job in estimator.jobs:\n",
    "        directory = job.describe()['TrainingJobName']\n",
    "        dfs[directory] = pd.read_csv(f'{directory}/1.csv')\n",
    "fig = plt.figure(figsize=(20,16))\n",
    "for i,column in enumerate(dfs[directory].columns[1:]):\n",
    "    ax = fig.add_subplot(3,3,i+1)\n",
    "    ax.set_title(column)\n",
    "    for key in dfs:\n",
    "        ax.plot(dfs[key]['Step'],dfs[key][column],label=key)\n",
    "    ax.legend()"
   ]
  },
  {
   "cell_type": "code",
   "execution_count": null,
   "id": "feb67250",
   "metadata": {},
   "outputs": [],
   "source": []
  },
  {
   "cell_type": "markdown",
   "id": "ef180384",
   "metadata": {},
   "source": [
    "## SageMaker Experiments を用いてシミュレーションの実験管理を行う\n",
    "* シミュレーションの入力と出力を一元管理"
   ]
  },
  {
   "cell_type": "code",
   "execution_count": null,
   "id": "00a309d1",
   "metadata": {
    "scrolled": true
   },
   "outputs": [],
   "source": [
    "# sagemaker experiments SDK のインストール\n",
    "!pip install sagemaker-experiments"
   ]
  },
  {
   "cell_type": "code",
   "execution_count": null,
   "id": "84300436",
   "metadata": {},
   "outputs": [],
   "source": [
    "from smexperiments import experiment\n",
    "from smexperiments.experiment import Experiment\n",
    "from sagemaker.analytics import ExperimentAnalytics\n",
    "from smexperiments.trial import Trial\n",
    "from smexperiments.trial_component import TrialComponent\n",
    "import time"
   ]
  },
  {
   "cell_type": "code",
   "execution_count": null,
   "id": "1644044b",
   "metadata": {},
   "outputs": [],
   "source": [
    "my_lammps_experiment = experiment.Experiment.create(experiment_name='my-LAMMPS-experiments')"
   ]
  },
  {
   "cell_type": "code",
   "execution_count": null,
   "id": "d2ce4d99",
   "metadata": {},
   "outputs": [],
   "source": [
    "my_trial = my_lammps_experiment.create_trial(trial_name='simple-trial')"
   ]
  },
  {
   "cell_type": "code",
   "execution_count": null,
   "id": "0b274e72",
   "metadata": {},
   "outputs": [],
   "source": [
    "# 標準出力から回収する定義\n",
    "\n",
    "metric_definitions = [\n",
    "    {'Name':'Step','Regex': '([0-9\\\\.]+)'},\n",
    "    {'Name':'Time','Regex': '([0-9\\\\.]+)'},\n",
    "    {'Name':'Temp','Regex': '([0-9\\\\.]+)'},\n",
    "    {'Name':'PotEng','Regex': '([0-9\\\\.]+)'},\n",
    "    {'Name':'KinEng','Regex': '([0-9\\\\.]+)'},\n",
    "    {'Name':'TotEng','Regex': '([0-9\\\\.]+)'},\n",
    "    {'Name':'Enthalpy','Regex': '([0-9\\\\.]+)'},\n",
    "    {'Name':'Press','Regex': '([0-9\\\\.]+)'},\n",
    "    {'Name':'Volume','Regex': '([0-9\\\\.]+)'},\n",
    "    {'Name':'Density','Regex': '([0-9\\\\.]+)'}\n",
    "]"
   ]
  },
  {
   "cell_type": "code",
   "execution_count": null,
   "id": "270d0a5d",
   "metadata": {},
   "outputs": [],
   "source": [
    "prefix = 'lammps_grid_training'\n",
    "input_s3_uri = sagemaker.session.Session().upload_data(path='param_base/', key_prefix=prefix)\n",
    "print(input_s3_uri)\n",
    "BASE_JOB_NAME='LAMMPS-polyethylene-grid'\n",
    "estimators = []\n",
    "for i,kervin in enumerate([540,550]):\n",
    "    estimator = TensorFlow(\n",
    "        base_job_name=BASE_JOB_NAME,\n",
    "        entry_point='src_experiments/run.py',\n",
    "        role=sagemaker.get_execution_role(),\n",
    "        image_uri=MY_IMAGE_URI,\n",
    "        instance_count=1,\n",
    "        instance_type='ml.g4dn.xlarge',\n",
    "        hyperparameters={\n",
    "            'np':'2',\n",
    "            'gpu':'1',\n",
    "            'tempe1-1-variable': str(kervin),\n",
    "            'tempe1-2-variable':'550',\n",
    "            'dt1-variable'     :'1.6',\n",
    "            'nrun1-variable'   :'ceil(1e5)'\n",
    "        },\n",
    "        metric_definitions=metric_definitions, # metrics 定義を指定\n",
    "    )\n",
    "    estimator.fit(\n",
    "        inputs={'param': input_s3_uri},\n",
    "        wait=False,\n",
    "        experiment_config={\n",
    "            \"ExperimentName\": my_lammps_experiment.experiment_name,\n",
    "            \"TrialName\": my_trial.trial_name,\n",
    "            \"TrialComponentDisplayName\": \"polyethylene-simulation\"\n",
    "        }\n",
    "    )\n",
    "    estimators.append(estimator)"
   ]
  },
  {
   "cell_type": "code",
   "execution_count": null,
   "id": "0f890e4a",
   "metadata": {},
   "outputs": [],
   "source": [
    "# ジョブが終わるまで待つ\n",
    "for estimator in estimators:\n",
    "    for job in estimator.jobs:\n",
    "        job.wait()"
   ]
  },
  {
   "cell_type": "code",
   "execution_count": null,
   "id": "7a7ab45c",
   "metadata": {},
   "outputs": [],
   "source": [
    "trial_component_analytics = ExperimentAnalytics(\n",
    "    experiment_name=my_lammps_experiment.experiment_name,\n",
    ")\n",
    "\n",
    "analytic_table = trial_component_analytics.dataframe()"
   ]
  },
  {
   "cell_type": "code",
   "execution_count": null,
   "id": "1ec856b3",
   "metadata": {},
   "outputs": [],
   "source": [
    "pd.set_option('display.max_rows', None)\n",
    "pd.set_option('display.max_columns', None)\n",
    "analytic_table"
   ]
  },
  {
   "cell_type": "code",
   "execution_count": null,
   "id": "645a9ef7",
   "metadata": {},
   "outputs": [],
   "source": [
    "def cleanup_sme_sdk(experiment):\n",
    "    for trial_summary in experiment.list_trials():\n",
    "        trial = Trial.load(trial_name=trial_summary.trial_name)\n",
    "        for trial_component_summary in trial.list_trial_components():\n",
    "            tc = TrialComponent.load(\n",
    "                trial_component_name=trial_component_summary.trial_component_name)\n",
    "            trial.remove_trial_component(tc)\n",
    "            try:\n",
    "                # comment out to keep trial components\n",
    "                tc.delete()\n",
    "            except:\n",
    "                # tc is associated with another trial\n",
    "                continue\n",
    "            # to prevent throttling\n",
    "            time.sleep(.5)\n",
    "        trial.delete()\n",
    "        experiment_name = experiment.experiment_name\n",
    "    experiment.delete()\n",
    "    print(f\"\\nExperiment {experiment_name} deleted\")"
   ]
  },
  {
   "cell_type": "code",
   "execution_count": null,
   "id": "97f8c6b8",
   "metadata": {},
   "outputs": [],
   "source": [
    "experiment_to_cleanup = Experiment.load(\n",
    "    # Use experiment name not display name\n",
    "    experiment_name=my_lammps_experiment.experiment_name)\n",
    "\n",
    "cleanup_sme_sdk(experiment_to_cleanup)"
   ]
  },
  {
   "cell_type": "code",
   "execution_count": null,
   "id": "e41efca9",
   "metadata": {},
   "outputs": [],
   "source": [
    "sm_client = boto3.client('sagemaker')"
   ]
  },
  {
   "cell_type": "code",
   "execution_count": null,
   "id": "f5bb8dd0",
   "metadata": {},
   "outputs": [],
   "source": [
    "processing_job_list = sm_client.list_processing_jobs(SortBy='CreationTime',SortOrder='Descending',MaxResults=1)['ProcessingJobSummaries']"
   ]
  },
  {
   "cell_type": "code",
   "execution_count": null,
   "id": "4db98207",
   "metadata": {},
   "outputs": [],
   "source": [
    "for job in processing_job_list:\n",
    "    if 'LAMMPS' in job['ProcessingJobName']:\n",
    "        print(sm_client.describe_processing_job(ProcessingJobName=job['ProcessingJobName']))"
   ]
  },
  {
   "cell_type": "code",
   "execution_count": null,
   "id": "26d80066",
   "metadata": {},
   "outputs": [],
   "source": [
    "job_description = sm_client.describe_processing_job(ProcessingJobName=job['ProcessingJobName'])\n",
    "job_description"
   ]
  },
  {
   "cell_type": "code",
   "execution_count": null,
   "id": "0bbed3db",
   "metadata": {},
   "outputs": [],
   "source": [
    "job_description['AppSpecification']"
   ]
  },
  {
   "cell_type": "code",
   "execution_count": null,
   "id": "d569f724",
   "metadata": {},
   "outputs": [],
   "source": []
  }
 ],
 "metadata": {
  "kernelspec": {
   "display_name": "conda_python3",
   "language": "python",
   "name": "conda_python3"
  },
  "language_info": {
   "codemirror_mode": {
    "name": "ipython",
    "version": 3
   },
   "file_extension": ".py",
   "mimetype": "text/x-python",
   "name": "python",
   "nbconvert_exporter": "python",
   "pygments_lexer": "ipython3",
   "version": "3.6.13"
  }
 },
 "nbformat": 4,
 "nbformat_minor": 5
}
